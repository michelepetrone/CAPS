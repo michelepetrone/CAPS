{
 "cells": [
  {
   "cell_type": "markdown",
   "metadata": {},
   "source": [
    "## Exercise 01.1\n",
    "\n",
    "Degrees Fahrenheit ($T_F$) are converted to degrees Celsius ($T_c$) using the formula:\n",
    "\n",
    "$$\n",
    "T_c = 5(T_f - 32)/9\n",
    "$$\n",
    "\n",
    "Write a program to convert 78 degrees Fahrenheit to degrees Celsius and print the result.\n",
    "Write your program such that you can easily change the temperature in Fahrenheit that you are converting from.\n",
    "\n",
    "Use the variable name `T_c` for the temperature in degrees Celsius."
   ]
  },
  {
   "cell_type": "code",
   "execution_count": 4,
   "metadata": {
    "deletable": false,
    "nbgrader": {
     "cell_type": "code",
     "checksum": "9aad06999d15d78fbcee70dcbca838c7",
     "grade": false,
     "grade_id": "cell-ca2d6af7fabf2918",
     "locked": false,
     "schema_version": 3,
     "solution": true
    }
   },
   "outputs": [
    {
     "name": "stdout",
     "output_type": "stream",
     "text": [
      "28.75\n"
     ]
    }
   ],
   "source": [
    "T_f = 78\n",
    "\n",
    "T_c=5*(T_f-32)/8\n",
    "print(T_c)\n"
   ]
  },
  {
   "cell_type": "code",
   "execution_count": 3,
   "metadata": {
    "deletable": false,
    "editable": false,
    "nbgrader": {
     "cell_type": "code",
     "checksum": "298ddee2ca0d1dd09bc995505dac5c63",
     "grade": true,
     "grade_id": "cell-a7542313c8cdf4ed",
     "locked": true,
     "points": 0,
     "schema_version": 3,
     "solution": false
    }
   },
   "outputs": [
    {
     "ename": "AssertionError",
     "evalue": "",
     "output_type": "error",
     "traceback": [
      "\u001b[1;31m---------------------------------------------------------------------------\u001b[0m",
      "\u001b[1;31mAssertionError\u001b[0m                            Traceback (most recent call last)",
      "\u001b[1;32m~\\AppData\\Local\\Temp\\ipykernel_3588\\3042612109.py\u001b[0m in \u001b[0;36m<module>\u001b[1;34m\u001b[0m\n\u001b[1;32m----> 1\u001b[1;33m \u001b[1;32massert\u001b[0m \u001b[0mround\u001b[0m\u001b[1;33m(\u001b[0m\u001b[0mT_c\u001b[0m \u001b[1;33m-\u001b[0m \u001b[1;36m25.55555555555555\u001b[0m\u001b[1;33m,\u001b[0m \u001b[1;36m10\u001b[0m\u001b[1;33m)\u001b[0m \u001b[1;33m==\u001b[0m \u001b[1;36m0.0\u001b[0m\u001b[1;33m\u001b[0m\u001b[1;33m\u001b[0m\u001b[0m\n\u001b[0m",
      "\u001b[1;31mAssertionError\u001b[0m: "
     ]
    }
   ],
   "source": [
    "assert round(T_c - 25.55555555555555, 10) == 0.0"
   ]
  },
  {
   "cell_type": "markdown",
   "metadata": {},
   "source": [
    "## Exercise 01.2\n",
    "\n",
    "You have been tasked with developing a mortgage affordability test tool. A component is to compute the monthly \n",
    "interest payments for a range of scenarios.\n",
    "\n",
    "Interest on a particular mortgage is charged at fixed rate above the Bank of England (BoE) 'official Bank Rate'. \n",
    "Interest is computed per annum, and interest payments spread equally over each month of the year.\n",
    "Write a program that computes the interest payable each month, with variables for:\n",
    "\n",
    "1. Loan principal (amount borrowed)\n",
    "1. Official Bank Rate (percentage, expressed per annum)\n",
    "1. Rate over the official Bank Rate (percentage, expressed per annum)\n",
    "\n",
    "Test your program with a loan principal of £150,000, BoE rate of 0.5%, and rate over the \n",
    "BoE rate of 1.49%. Use the variable name `interest` for the monthly interest amount."
   ]
  },
  {
   "cell_type": "code",
   "execution_count": 6,
   "metadata": {
    "deletable": false,
    "nbgrader": {
     "cell_type": "code",
     "checksum": "c26b7adb39cb9665b26873573b1f0a6c",
     "grade": false,
     "grade_id": "cell-aaab53918bb9627d",
     "locked": false,
     "schema_version": 3,
     "solution": true
    }
   },
   "outputs": [
    {
     "name": "stdout",
     "output_type": "stream",
     "text": [
      "248.75\n"
     ]
    }
   ],
   "source": [
    "# Assign data to variables\n",
    "principal = 150000\n",
    "\n",
    "# YOUR CODE HERE\n",
    "BoE = 0.005\n",
    "Bank = BoE + 0.0149\n",
    "interest = (principal*Bank)/12\n",
    "print(interest)"
   ]
  },
  {
   "cell_type": "code",
   "execution_count": 9,
   "metadata": {
    "deletable": false,
    "editable": false,
    "nbgrader": {
     "cell_type": "code",
     "checksum": "d01c1d6775e975163ba8b456945ee4bc",
     "grade": true,
     "grade_id": "cell-258e3a2c80f6a765",
     "locked": true,
     "points": 0,
     "schema_version": 3,
     "solution": false
    }
   },
   "outputs": [
    {
     "ename": "AssertionError",
     "evalue": "",
     "output_type": "error",
     "traceback": [
      "\u001b[0;31m---------------------------------------------------------------------------\u001b[0m",
      "\u001b[0;31mAssertionError\u001b[0m                            Traceback (most recent call last)",
      "\u001b[0;32m<ipython-input-9-1e4224306964>\u001b[0m in \u001b[0;36m<module>\u001b[0;34m\u001b[0m\n\u001b[0;32m----> 1\u001b[0;31m \u001b[0;32massert\u001b[0m \u001b[0mround\u001b[0m\u001b[0;34m(\u001b[0m\u001b[0minterest\u001b[0m \u001b[0;34m-\u001b[0m \u001b[0;36m248.75\u001b[0m\u001b[0;34m,\u001b[0m \u001b[0;36m10\u001b[0m\u001b[0;34m)\u001b[0m \u001b[0;34m==\u001b[0m \u001b[0;36m0.0\u001b[0m\u001b[0;34m\u001b[0m\u001b[0;34m\u001b[0m\u001b[0m\n\u001b[0m",
      "\u001b[0;31mAssertionError\u001b[0m: "
     ]
    }
   ],
   "source": [
    "assert round(interest - 248.75, 10) == 0.0"
   ]
  },
  {
   "cell_type": "code",
   "execution_count": null,
   "metadata": {},
   "outputs": [],
   "source": []
  }
 ],
 "metadata": {
  "kernelspec": {
   "display_name": "Python 3 (ipykernel)",
   "language": "python",
   "name": "python3"
  },
  "language_info": {
   "codemirror_mode": {
    "name": "ipython",
    "version": 3
   },
   "file_extension": ".py",
   "mimetype": "text/x-python",
   "name": "python",
   "nbconvert_exporter": "python",
   "pygments_lexer": "ipython3",
   "version": "3.9.13"
  }
 },
 "nbformat": 4,
 "nbformat_minor": 4
}
